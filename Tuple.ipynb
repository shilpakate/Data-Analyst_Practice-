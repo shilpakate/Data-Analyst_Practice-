{
 "cells": [
  {
   "cell_type": "code",
   "execution_count": 1,
   "metadata": {
    "id": "4XYPfprq5i7j"
   },
   "outputs": [],
   "source": [
    "#Tuple\n"
   ]
  },
  {
   "cell_type": "code",
   "execution_count": 2,
   "metadata": {
    "id": "-4kzVJPs5onO"
   },
   "outputs": [],
   "source": [
    "location_of_tajmahal=[]#gps cordinates which is reprsented by latitude and longitude\n",
    "location_of_tajmahal=[23.77888,77.343434]"
   ]
  },
  {
   "cell_type": "code",
   "execution_count": 3,
   "metadata": {
    "colab": {
     "base_uri": "https://localhost:8080/"
    },
    "id": "b8etzpyE550B",
    "outputId": "36d16021-fb8c-4e06-ff99-f5134bf8d275"
   },
   "outputs": [
    {
     "data": {
      "text/plain": [
       "23.77888"
      ]
     },
     "execution_count": 3,
     "metadata": {},
     "output_type": "execute_result"
    }
   ],
   "source": [
    "location_of_tajmahal[0]"
   ]
  },
  {
   "cell_type": "code",
   "execution_count": 4,
   "metadata": {
    "id": "7jiWLQ9s6AhB"
   },
   "outputs": [],
   "source": [
    "location_of_tajmahal[0]=122.786767"
   ]
  },
  {
   "cell_type": "code",
   "execution_count": 5,
   "metadata": {
    "colab": {
     "base_uri": "https://localhost:8080/"
    },
    "id": "HceO5cdj6Kvc",
    "outputId": "84e817c2-a3cd-4c5a-e932-12271b3b7f66"
   },
   "outputs": [
    {
     "name": "stdout",
     "output_type": "stream",
     "text": [
      "[122.786767, 77.343434]\n"
     ]
    }
   ],
   "source": [
    "print(location_of_tajmahal)"
   ]
  },
  {
   "cell_type": "code",
   "execution_count": 6,
   "metadata": {
    "id": "n7UnAa276MVZ"
   },
   "outputs": [],
   "source": [
    "location_of_tajmahal=(23.77888,77.343434)"
   ]
  },
  {
   "cell_type": "code",
   "execution_count": 7,
   "metadata": {
    "colab": {
     "base_uri": "https://localhost:8080/"
    },
    "id": "ywiWYrD66i1D",
    "outputId": "38e827a4-0e93-4eb8-911a-a4805929a1f3"
   },
   "outputs": [
    {
     "data": {
      "text/plain": [
       "23.77888"
      ]
     },
     "execution_count": 7,
     "metadata": {},
     "output_type": "execute_result"
    }
   ],
   "source": [
    "location_of_tajmahal[0]"
   ]
  },
  {
   "cell_type": "code",
   "execution_count": 8,
   "metadata": {
    "colab": {
     "base_uri": "https://localhost:8080/",
     "height": 166
    },
    "id": "ailjYhh06kYh",
    "outputId": "4902ee89-3fcf-40ee-8d36-b84ad28483c6"
   },
   "outputs": [
    {
     "ename": "TypeError",
     "evalue": "'tuple' object does not support item assignment",
     "output_type": "error",
     "traceback": [
      "\u001b[1;31m---------------------------------------------------------------------------\u001b[0m",
      "\u001b[1;31mTypeError\u001b[0m                                 Traceback (most recent call last)",
      "Cell \u001b[1;32mIn[8], line 1\u001b[0m\n\u001b[1;32m----> 1\u001b[0m location_of_tajmahal[\u001b[38;5;241m0\u001b[39m]\u001b[38;5;241m=\u001b[39m\u001b[38;5;241m122.786767\u001b[39m\n",
      "\u001b[1;31mTypeError\u001b[0m: 'tuple' object does not support item assignment"
     ]
    }
   ],
   "source": [
    "location_of_tajmahal[0]=122.786767"
   ]
  },
  {
   "cell_type": "code",
   "execution_count": 9,
   "metadata": {
    "colab": {
     "base_uri": "https://localhost:8080/"
    },
    "id": "V1j2sGdd6ncn",
    "outputId": "98ca0855-ac45-489b-f84c-78d62cbf98bc"
   },
   "outputs": [
    {
     "name": "stdout",
     "output_type": "stream",
     "text": [
      "(23.77888, 77.343434)\n"
     ]
    }
   ],
   "source": [
    "print(location_of_tajmahal)"
   ]
  },
  {
   "cell_type": "code",
   "execution_count": 10,
   "metadata": {
    "id": "N2VkM1ya6rRs"
   },
   "outputs": [],
   "source": [
    "tup1=(10,20,30,40)"
   ]
  },
  {
   "cell_type": "code",
   "execution_count": 11,
   "metadata": {
    "colab": {
     "base_uri": "https://localhost:8080/"
    },
    "id": "Npf5f3kD64j5",
    "outputId": "e10174e2-ff62-4aff-af38-265c25cfcf32"
   },
   "outputs": [
    {
     "name": "stdout",
     "output_type": "stream",
     "text": [
      "(10, 20, 30, 40)\n"
     ]
    }
   ],
   "source": [
    "print(tup1)"
   ]
  },
  {
   "cell_type": "code",
   "execution_count": 12,
   "metadata": {
    "colab": {
     "base_uri": "https://localhost:8080/"
    },
    "id": "NF8G6WB967d1",
    "outputId": "644691b0-94b9-40c5-dd4a-bebdb11e352b"
   },
   "outputs": [
    {
     "name": "stdout",
     "output_type": "stream",
     "text": [
      "<class 'tuple'>\n"
     ]
    }
   ],
   "source": [
    "print(type(tup1))"
   ]
  },
  {
   "cell_type": "code",
   "execution_count": 13,
   "metadata": {
    "colab": {
     "base_uri": "https://localhost:8080/"
    },
    "id": "S7Hb19Qe69h4",
    "outputId": "157a28d3-b545-4f28-bcce-3d7ffe660506"
   },
   "outputs": [
    {
     "name": "stdout",
     "output_type": "stream",
     "text": [
      "<class 'list'>\n"
     ]
    }
   ],
   "source": [
    "tup1=[10,20,30,40]\n",
    "print(type(tup1))"
   ]
  },
  {
   "cell_type": "code",
   "execution_count": 14,
   "metadata": {
    "colab": {
     "base_uri": "https://localhost:8080/"
    },
    "id": "F56fHsVW7Dky",
    "outputId": "f7205227-bd35-4123-f5c8-8b54c9d544e7"
   },
   "outputs": [
    {
     "name": "stdout",
     "output_type": "stream",
     "text": [
      "(10, 20.5, 'Sourabh', 30)\n"
     ]
    }
   ],
   "source": [
    "tup1=(10,20.5,'Sourabh',30)\n",
    "print(tup1)"
   ]
  },
  {
   "cell_type": "code",
   "execution_count": 15,
   "metadata": {
    "colab": {
     "base_uri": "https://localhost:8080/"
    },
    "id": "qxLvY2pn7NEl",
    "outputId": "e319c092-3127-4e4f-d3b1-a440c905b4fd"
   },
   "outputs": [
    {
     "name": "stdout",
     "output_type": "stream",
     "text": [
      "10\n",
      "<class 'int'>\n"
     ]
    }
   ],
   "source": [
    "tup3=(10)\n",
    "print(tup3)\n",
    "print(type(tup3))"
   ]
  },
  {
   "cell_type": "code",
   "execution_count": 16,
   "metadata": {
    "colab": {
     "base_uri": "https://localhost:8080/"
    },
    "id": "VnMRs8tw7nbI",
    "outputId": "e290d174-4b3e-445b-e097-76aa17c9c779"
   },
   "outputs": [
    {
     "name": "stdout",
     "output_type": "stream",
     "text": [
      "(10,)\n",
      "<class 'tuple'>\n"
     ]
    }
   ],
   "source": [
    "a=(10,)\n",
    "print(a)\n",
    "print(type(a))"
   ]
  },
  {
   "cell_type": "code",
   "execution_count": 17,
   "metadata": {
    "colab": {
     "base_uri": "https://localhost:8080/"
    },
    "id": "BSODH5bC7vw6",
    "outputId": "95ffa312-dd98-4beb-ae28-ccd7182268b8"
   },
   "outputs": [
    {
     "name": "stdout",
     "output_type": "stream",
     "text": [
      "30\n"
     ]
    }
   ],
   "source": [
    "tup5=(10,20,30,40,'Sourabh')\n",
    "print(tup5[2])"
   ]
  },
  {
   "cell_type": "code",
   "execution_count": 18,
   "metadata": {
    "colab": {
     "base_uri": "https://localhost:8080/"
    },
    "id": "NpKwB8qc8I8Q",
    "outputId": "1ef1ad7a-01c9-491f-bf98-7b5e7b1ef2d3"
   },
   "outputs": [
    {
     "name": "stdout",
     "output_type": "stream",
     "text": [
      "r\n"
     ]
    }
   ],
   "source": [
    "tup5=(10,20,30,40,'Sourabh')\n",
    "print(tup5[4][3])"
   ]
  },
  {
   "cell_type": "code",
   "execution_count": 19,
   "metadata": {
    "colab": {
     "base_uri": "https://localhost:8080/"
    },
    "id": "ZIDOCZq78fkU",
    "outputId": "bfa013c8-6435-41aa-d4fb-06eabd6321e1"
   },
   "outputs": [
    {
     "name": "stdout",
     "output_type": "stream",
     "text": [
      "5\n"
     ]
    }
   ],
   "source": [
    "tup5=(10,20,30,40,'Sourabh')\n",
    "print(len(tup5))"
   ]
  },
  {
   "cell_type": "code",
   "execution_count": 20,
   "metadata": {
    "colab": {
     "base_uri": "https://localhost:8080/"
    },
    "id": "Z5WoJvI08mOF",
    "outputId": "d1697bfe-198d-4336-fdd7-4169de467acd"
   },
   "outputs": [
    {
     "name": "stdout",
     "output_type": "stream",
     "text": [
      "((10, 20, 40), (20, 20, 20), (40, 50, 60))\n"
     ]
    }
   ],
   "source": [
    "tup6=((10,20,40),(20,20,20),(40,50,60)) #nested tuple\n",
    "print(tup6)"
   ]
  },
  {
   "cell_type": "code",
   "execution_count": 21,
   "metadata": {
    "colab": {
     "base_uri": "https://localhost:8080/"
    },
    "id": "MtWBElA78zrC",
    "outputId": "0099ea5a-d7aa-4ef5-9277-da77a6d1073a"
   },
   "outputs": [
    {
     "name": "stdout",
     "output_type": "stream",
     "text": [
      "(20, 20, 20)\n"
     ]
    }
   ],
   "source": [
    "print(tup6[1])"
   ]
  },
  {
   "cell_type": "code",
   "execution_count": 22,
   "metadata": {
    "colab": {
     "base_uri": "https://localhost:8080/"
    },
    "id": "3w-G5p4f9Gv9",
    "outputId": "9b7fd1eb-31c8-4ac0-e31e-f43be3e2e562"
   },
   "outputs": [
    {
     "name": "stdout",
     "output_type": "stream",
     "text": [
      "((10, 20, 40), [10, 30, 50], [40, 60, 70])\n",
      "((10, 20, 40), [10, 30, 50], [40, 60, 70])\n"
     ]
    }
   ],
   "source": [
    "tup7=((10,20,40),[10,30,50],[40,60,70])\n",
    "print(tup7)\n",
    "tup7[1][2]=50\n",
    "print(tup7)"
   ]
  },
  {
   "cell_type": "code",
   "execution_count": 23,
   "metadata": {
    "colab": {
     "base_uri": "https://localhost:8080/"
    },
    "id": "9sARpgtQ9dER",
    "outputId": "366f3614-c38e-4897-c5a9-b447d2fa699e"
   },
   "outputs": [
    {
     "name": "stdout",
     "output_type": "stream",
     "text": [
      "3\n"
     ]
    }
   ],
   "source": [
    "tup8=(10,30,40,10,5,10)\n",
    "print(tup8.count(10))"
   ]
  },
  {
   "cell_type": "code",
   "execution_count": 24,
   "metadata": {
    "colab": {
     "base_uri": "https://localhost:8080/"
    },
    "id": "XN9XTqJJ9vkE",
    "outputId": "86b669aa-dd84-43fe-b564-0c2faf687a33"
   },
   "outputs": [
    {
     "name": "stdout",
     "output_type": "stream",
     "text": [
      "(10, 30, 40, 10, 5, 10)\n",
      "(5, 10, 10, 10, 30, 40)\n"
     ]
    }
   ],
   "source": [
    "tup8=(10,30,40,10,5,10)\n",
    "print(tup8)\n",
    "sorted(tup8) #it will return list\n",
    "print(tuple(sorted(tup8)))"
   ]
  },
  {
   "cell_type": "code",
   "execution_count": 25,
   "metadata": {
    "colab": {
     "base_uri": "https://localhost:8080/"
    },
    "id": "Qd-8NfcQ97K2",
    "outputId": "c8365189-939f-46b9-9ead-5d5a40b8f410"
   },
   "outputs": [
    {
     "name": "stdout",
     "output_type": "stream",
     "text": [
      "(10, 30, 40, 10, 5, 10)\n",
      "(40, 30, 10, 10, 10, 5)\n"
     ]
    }
   ],
   "source": [
    "tup8=(10,30,40,10,5,10)\n",
    "print(tup8)\n",
    "print(tuple(sorted(tup8,reverse=True)))"
   ]
  },
  {
   "cell_type": "code",
   "execution_count": 26,
   "metadata": {
    "colab": {
     "base_uri": "https://localhost:8080/"
    },
    "id": "IoE4AWoU-U-B",
    "outputId": "e23d5cca-f164-4833-db97-eb41262c9673"
   },
   "outputs": [
    {
     "name": "stdout",
     "output_type": "stream",
     "text": [
      "(10, 20, 30, 40, 50, 60)\n"
     ]
    }
   ],
   "source": [
    "tup1=(10,20,30)\n",
    "tup2=(40,50,60)\n",
    "print(tup1+tup2)"
   ]
  },
  {
   "cell_type": "code",
   "execution_count": 27,
   "metadata": {
    "colab": {
     "base_uri": "https://localhost:8080/"
    },
    "id": "9vePCnJQ-oya",
    "outputId": "59466581-babc-490a-b9b4-2cf0748c5f2f"
   },
   "outputs": [
    {
     "name": "stdout",
     "output_type": "stream",
     "text": [
      "55\n",
      "5\n",
      "140\n"
     ]
    }
   ],
   "source": [
    "tup1=(10,20,40,5,55,10)\n",
    "print(max(tup1))\n",
    "print(min(tup1))\n",
    "print(sum(tup1))"
   ]
  },
  {
   "cell_type": "code",
   "execution_count": 28,
   "metadata": {
    "colab": {
     "base_uri": "https://localhost:8080/"
    },
    "id": "_cJbQtzB-1GT",
    "outputId": "6433bdc1-2152-424d-a602-7aa8365a459f"
   },
   "outputs": [
    {
     "name": "stdout",
     "output_type": "stream",
     "text": [
      "(10, 20, 40, 10, 20, 40, 10, 20, 40)\n"
     ]
    }
   ],
   "source": [
    "tup5=(10,20,40)*3\n",
    "print(tup5)"
   ]
  },
  {
   "cell_type": "code",
   "execution_count": 29,
   "metadata": {
    "colab": {
     "base_uri": "https://localhost:8080/"
    },
    "id": "LoUmXQQp_HPC",
    "outputId": "281563d5-1a5b-4de2-e82b-824aaed16c8c"
   },
   "outputs": [
    {
     "name": "stdout",
     "output_type": "stream",
     "text": [
      "(12, 4, 5, 19, 30, 44)\n"
     ]
    }
   ],
   "source": [
    "tup10=(12,4,5,19,30,44)\n",
    "print(tup10)"
   ]
  },
  {
   "cell_type": "code",
   "execution_count": 30,
   "metadata": {
    "colab": {
     "base_uri": "https://localhost:8080/"
    },
    "id": "Us9IKSPB_Prr",
    "outputId": "f3ce9b54-fbe7-4425-ec51-bfad290ae6c6"
   },
   "outputs": [
    {
     "name": "stdout",
     "output_type": "stream",
     "text": [
      "12\n",
      "4\n",
      "5\n",
      "19\n",
      "30\n",
      "44\n"
     ]
    }
   ],
   "source": [
    "for a in tup10:\n",
    "  print(a)"
   ]
  },
  {
   "cell_type": "code",
   "execution_count": 31,
   "metadata": {
    "colab": {
     "base_uri": "https://localhost:8080/"
    },
    "id": "_LH8WUFZ_iTR",
    "outputId": "bce6cffb-dc4b-413f-9612-444822082867"
   },
   "outputs": [
    {
     "name": "stdout",
     "output_type": "stream",
     "text": [
      "[10, 20, 30, 50]\n",
      "[10, 20, 50]\n"
     ]
    }
   ],
   "source": [
    "tup11=[10,20,30,50]\n",
    "print(tup11)\n",
    "del tup11[2]\n",
    "print(tup11)"
   ]
  },
  {
   "cell_type": "code",
   "execution_count": 32,
   "metadata": {
    "colab": {
     "base_uri": "https://localhost:8080/",
     "height": 236
    },
    "id": "mMbUPLTr_ypk",
    "outputId": "f97bb03c-3fd2-4407-cf83-eaeb148f1507"
   },
   "outputs": [
    {
     "name": "stdout",
     "output_type": "stream",
     "text": [
      "(10, 20, 30, 50)\n"
     ]
    },
    {
     "ename": "TypeError",
     "evalue": "'tuple' object doesn't support item deletion",
     "output_type": "error",
     "traceback": [
      "\u001b[1;31m---------------------------------------------------------------------------\u001b[0m",
      "\u001b[1;31mTypeError\u001b[0m                                 Traceback (most recent call last)",
      "Cell \u001b[1;32mIn[32], line 3\u001b[0m\n\u001b[0;32m      1\u001b[0m tup11\u001b[38;5;241m=\u001b[39m(\u001b[38;5;241m10\u001b[39m,\u001b[38;5;241m20\u001b[39m,\u001b[38;5;241m30\u001b[39m,\u001b[38;5;241m50\u001b[39m)\n\u001b[0;32m      2\u001b[0m \u001b[38;5;28mprint\u001b[39m(tup11)\n\u001b[1;32m----> 3\u001b[0m \u001b[38;5;28;01mdel\u001b[39;00m tup11[\u001b[38;5;241m2\u001b[39m]\n\u001b[0;32m      4\u001b[0m \u001b[38;5;28mprint\u001b[39m(tup11)\n",
      "\u001b[1;31mTypeError\u001b[0m: 'tuple' object doesn't support item deletion"
     ]
    }
   ],
   "source": [
    "tup11=(10,20,30,50)\n",
    "print(tup11)\n",
    "del tup11[2]\n",
    "print(tup11)"
   ]
  },
  {
   "cell_type": "code",
   "execution_count": 33,
   "metadata": {
    "colab": {
     "base_uri": "https://localhost:8080/"
    },
    "id": "2vQ3hFDjABCS",
    "outputId": "7ea56d0c-8d4e-48a8-d605-b0659d2cdf2c"
   },
   "outputs": [
    {
     "name": "stdout",
     "output_type": "stream",
     "text": [
      "(10, 20, 30, 50)\n"
     ]
    }
   ],
   "source": [
    "tup11=(10,20,30,50)\n",
    "print(tup11)\n",
    "del tup11"
   ]
  },
  {
   "cell_type": "code",
   "execution_count": 34,
   "metadata": {
    "colab": {
     "base_uri": "https://localhost:8080/"
    },
    "id": "rwAXk1ZhAGHR",
    "outputId": "1f6e442f-5de5-4b2a-f5f9-e7ed196c0cd5"
   },
   "outputs": [
    {
     "name": "stdout",
     "output_type": "stream",
     "text": [
      "[2, 4, 6, 8, 10, 12, 14, 16, 18, 20]\n",
      "<class 'list'>\n"
     ]
    }
   ],
   "source": [
    "lst=[2*a for a in range(1,11)]\n",
    "print(lst)\n",
    "print(type(lst))"
   ]
  },
  {
   "cell_type": "code",
   "execution_count": 35,
   "metadata": {
    "colab": {
     "base_uri": "https://localhost:8080/"
    },
    "id": "3Czzsd2yATsO",
    "outputId": "332f32ed-b0c5-4413-9cb4-3b2dc4570a74"
   },
   "outputs": [
    {
     "name": "stdout",
     "output_type": "stream",
     "text": [
      "(2, 4, 6, 8, 10, 12, 14, 16, 18, 20)\n",
      "<class 'tuple'>\n"
     ]
    }
   ],
   "source": [
    "lst=tuple([2*a for a in range(1,11)])\n",
    "print(lst)\n",
    "print(type(lst))"
   ]
  },
  {
   "cell_type": "code",
   "execution_count": 36,
   "metadata": {
    "colab": {
     "base_uri": "https://localhost:8080/"
    },
    "id": "h5hdmFIuAuoR",
    "outputId": "43ec2162-f6a2-4846-d287-6110612632ed"
   },
   "outputs": [
    {
     "name": "stdout",
     "output_type": "stream",
     "text": [
      "True\n"
     ]
    }
   ],
   "source": [
    "tup12=(10,20,30,50)\n",
    "print(10 in tup12)"
   ]
  },
  {
   "cell_type": "code",
   "execution_count": 37,
   "metadata": {
    "colab": {
     "base_uri": "https://localhost:8080/"
    },
    "id": "MYSRLBN2A4DB",
    "outputId": "4ab41fcb-2a0f-4a34-fc04-cd2aff9c2e9b"
   },
   "outputs": [
    {
     "name": "stdout",
     "output_type": "stream",
     "text": [
      "[(10, 20, 30), (40, 50, 60), (90, 100, 200)]\n",
      "[(10, 20, 100), (40, 50, 100), (90, 100, 100)]\n"
     ]
    }
   ],
   "source": [
    "#program\n",
    "\n",
    "#input\n",
    "l=[(10,20,30),(40,50,60),(90,100,200)]\n",
    "\n",
    "#change the last element of each tuple in a list to 100\n",
    "#output\n",
    "#l=[(10,20,100),(40,50,100),(90,100,100)]\n",
    "print(l)\n",
    "lst=[]\n",
    "for tup in l:\n",
    "  temp=tup[0:2]\n",
    "  temp=temp+(100,)\n",
    "  lst.append(temp)\n",
    "print(lst)"
   ]
  },
  {
   "cell_type": "code",
   "execution_count": 38,
   "metadata": {
    "id": "7fa3L53yB_8a"
   },
   "outputs": [
    {
     "data": {
      "text/plain": [
       "(1, 1)"
      ]
     },
     "execution_count": 38,
     "metadata": {},
     "output_type": "execute_result"
    }
   ],
   "source": [
    "tup1=(1,)\n",
    "tup2=(1,)*2\n",
    "tup2"
   ]
  },
  {
   "cell_type": "code",
   "execution_count": null,
   "metadata": {},
   "outputs": [],
   "source": []
  }
 ],
 "metadata": {
  "colab": {
   "provenance": []
  },
  "kernelspec": {
   "display_name": "Python 3 (ipykernel)",
   "language": "python",
   "name": "python3"
  },
  "language_info": {
   "codemirror_mode": {
    "name": "ipython",
    "version": 3
   },
   "file_extension": ".py",
   "mimetype": "text/x-python",
   "name": "python",
   "nbconvert_exporter": "python",
   "pygments_lexer": "ipython3",
   "version": "3.11.5"
  }
 },
 "nbformat": 4,
 "nbformat_minor": 1
}
