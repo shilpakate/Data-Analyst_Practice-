{
 "cells": [
  {
   "cell_type": "code",
   "execution_count": 5,
   "id": "9eb306ec",
   "metadata": {},
   "outputs": [],
   "source": [
    "import json\n",
    "\n",
    "# Assuming 'a.json' is in the specified path\n",
    "file_path = r'D:\\Data Anlayst\\NeenOpal\\a.json'\n",
    "\n",
    "# Open and read the JSON file\n",
    "with open(file_path, 'r') as file:\n",
    "    data = json.load(file)\n"
   ]
  },
  {
   "cell_type": "code",
   "execution_count": 8,
   "id": "85e703fb",
   "metadata": {},
   "outputs": [
    {
     "name": "stdout",
     "output_type": "stream",
     "text": [
      "[{'accNumber': 87990, 'ifscCode': 'SBI001'}, {'accNumber': 9888, 'ifscCode': 'SBI002'}]\n"
     ]
    }
   ],
   "source": [
    "# Find the entry with entityId \"200\"\n",
    "desired_entity_id = \"200\"\n",
    "desired_entity = next((entity for entity in data if entity[\"entityId\"] == desired_entity_id), None)\n",
    "\n",
    "# Check if the entity with entityId \"200\" exists\n",
    "if desired_entity:\n",
    "    # Access the account details for entityId \"200\"\n",
    "    account_details = desired_entity[\"accountDetails\"]\n",
    "    print(account_details)\n",
    "else:\n",
    "    print(f\"No entity found with entityId {desired_entity_id}\")"
   ]
  },
  {
   "cell_type": "code",
   "execution_count": 53,
   "id": "b62d5b1f",
   "metadata": {},
   "outputs": [
    {
     "name": "stdout",
     "output_type": "stream",
     "text": [
      "Dataset exported to D:\\generated_dataset.csv\n"
     ]
    }
   ],
   "source": [
    "import random\n",
    "import pandas as pd\n",
    "\n",
    "def generate_data(num):\n",
    "    data = {\n",
    "        'Id': [i+1 for i in range(num)],\n",
    "        'Name': [f'person{i+1}' for i in range(num)],\n",
    "        'Age': [random.randint(18, 65) for _ in range(num)],\n",
    "        'Salary': [random.randint(30000, 1000000) for _ in range(num)]\n",
    "    }\n",
    "    return data\n",
    "\n",
    "# Function to create a dataset and export it to a CSV file\n",
    "def create_and_export_dataset(num, file_path):\n",
    "    data = generate_data(num)\n",
    "    df = pd.DataFrame(data)\n",
    " \n",
    "    # Export the DataFrame to a CSV file\n",
    "    df.to_csv(file_path, index=False)\n",
    "    print(f'Dataset exported to {file_path}')\n",
    "\n",
    "if __name__ == \"__main__\":\n",
    "    # Set the number of records you want in the dataset\n",
    "    num_records = 100\n",
    "    \n",
    "    # Set the file path for the CSV file\n",
    "    csv_file_path = 'D:\\\\generated_dataset.csv'\n",
    "    \n",
    "    # Create and export the dataset\n",
    "    create_and_export_dataset(num_records, csv_file_path)\n"
   ]
  },
  {
   "cell_type": "code",
   "execution_count": 61,
   "id": "b1a51774",
   "metadata": {},
   "outputs": [],
   "source": [
    "   df.loc[0,'Salary']=79690"
   ]
  },
  {
   "cell_type": "code",
   "execution_count": 62,
   "id": "dd068676",
   "metadata": {},
   "outputs": [
    {
     "data": {
      "text/html": [
       "<div>\n",
       "<style scoped>\n",
       "    .dataframe tbody tr th:only-of-type {\n",
       "        vertical-align: middle;\n",
       "    }\n",
       "\n",
       "    .dataframe tbody tr th {\n",
       "        vertical-align: top;\n",
       "    }\n",
       "\n",
       "    .dataframe thead th {\n",
       "        text-align: right;\n",
       "    }\n",
       "</style>\n",
       "<table border=\"1\" class=\"dataframe\">\n",
       "  <thead>\n",
       "    <tr style=\"text-align: right;\">\n",
       "      <th></th>\n",
       "      <th>Id</th>\n",
       "      <th>Name</th>\n",
       "      <th>Age</th>\n",
       "      <th>Salary</th>\n",
       "    </tr>\n",
       "  </thead>\n",
       "  <tbody>\n",
       "    <tr>\n",
       "      <th>0</th>\n",
       "      <td>1</td>\n",
       "      <td>person1</td>\n",
       "      <td>32</td>\n",
       "      <td>79690</td>\n",
       "    </tr>\n",
       "    <tr>\n",
       "      <th>1</th>\n",
       "      <td>2</td>\n",
       "      <td>person2</td>\n",
       "      <td>34</td>\n",
       "      <td>79690</td>\n",
       "    </tr>\n",
       "    <tr>\n",
       "      <th>2</th>\n",
       "      <td>3</td>\n",
       "      <td>person3</td>\n",
       "      <td>25</td>\n",
       "      <td>691982</td>\n",
       "    </tr>\n",
       "    <tr>\n",
       "      <th>3</th>\n",
       "      <td>4</td>\n",
       "      <td>person4</td>\n",
       "      <td>31</td>\n",
       "      <td>770016</td>\n",
       "    </tr>\n",
       "    <tr>\n",
       "      <th>4</th>\n",
       "      <td>5</td>\n",
       "      <td>person5</td>\n",
       "      <td>44</td>\n",
       "      <td>63082</td>\n",
       "    </tr>\n",
       "    <tr>\n",
       "      <th>...</th>\n",
       "      <td>...</td>\n",
       "      <td>...</td>\n",
       "      <td>...</td>\n",
       "      <td>...</td>\n",
       "    </tr>\n",
       "    <tr>\n",
       "      <th>95</th>\n",
       "      <td>96</td>\n",
       "      <td>person96</td>\n",
       "      <td>58</td>\n",
       "      <td>984275</td>\n",
       "    </tr>\n",
       "    <tr>\n",
       "      <th>96</th>\n",
       "      <td>97</td>\n",
       "      <td>person97</td>\n",
       "      <td>61</td>\n",
       "      <td>203104</td>\n",
       "    </tr>\n",
       "    <tr>\n",
       "      <th>97</th>\n",
       "      <td>98</td>\n",
       "      <td>person98</td>\n",
       "      <td>36</td>\n",
       "      <td>327480</td>\n",
       "    </tr>\n",
       "    <tr>\n",
       "      <th>98</th>\n",
       "      <td>99</td>\n",
       "      <td>person99</td>\n",
       "      <td>43</td>\n",
       "      <td>557593</td>\n",
       "    </tr>\n",
       "    <tr>\n",
       "      <th>99</th>\n",
       "      <td>100</td>\n",
       "      <td>person100</td>\n",
       "      <td>34</td>\n",
       "      <td>754408</td>\n",
       "    </tr>\n",
       "  </tbody>\n",
       "</table>\n",
       "<p>100 rows × 4 columns</p>\n",
       "</div>"
      ],
      "text/plain": [
       "     Id       Name  Age  Salary\n",
       "0     1    person1   32   79690\n",
       "1     2    person2   34   79690\n",
       "2     3    person3   25  691982\n",
       "3     4    person4   31  770016\n",
       "4     5    person5   44   63082\n",
       "..  ...        ...  ...     ...\n",
       "95   96   person96   58  984275\n",
       "96   97   person97   61  203104\n",
       "97   98   person98   36  327480\n",
       "98   99   person99   43  557593\n",
       "99  100  person100   34  754408\n",
       "\n",
       "[100 rows x 4 columns]"
      ]
     },
     "execution_count": 62,
     "metadata": {},
     "output_type": "execute_result"
    }
   ],
   "source": [
    "df"
   ]
  },
  {
   "cell_type": "code",
   "execution_count": 46,
   "id": "9c6806ae",
   "metadata": {},
   "outputs": [],
   "source": [
    "df=pd.read_csv('D:\\\\generated_dataset.csv')"
   ]
  },
  {
   "cell_type": "code",
   "execution_count": 63,
   "id": "e81ff345",
   "metadata": {},
   "outputs": [
    {
     "name": "stdout",
     "output_type": "stream",
     "text": [
      "Persons with the same salary:\n",
      "      Name  Salary\n",
      "0  person1   79690\n",
      "1  person2   79690\n"
     ]
    }
   ],
   "source": [
    "# Find persons with the same salary\n",
    "duplicate_salaries = df[df.duplicated('Salary', keep=False)]\n",
    "\n",
    "# Display the persons with the same salary\n",
    "print(\"Persons with the same salary:\")\n",
    "print(duplicate_salaries[['Name', 'Salary']])"
   ]
  },
  {
   "cell_type": "code",
   "execution_count": 69,
   "id": "da81a100",
   "metadata": {},
   "outputs": [
    {
     "data": {
      "text/html": [
       "<div>\n",
       "<style scoped>\n",
       "    .dataframe tbody tr th:only-of-type {\n",
       "        vertical-align: middle;\n",
       "    }\n",
       "\n",
       "    .dataframe tbody tr th {\n",
       "        vertical-align: top;\n",
       "    }\n",
       "\n",
       "    .dataframe thead th {\n",
       "        text-align: right;\n",
       "    }\n",
       "</style>\n",
       "<table border=\"1\" class=\"dataframe\">\n",
       "  <thead>\n",
       "    <tr style=\"text-align: right;\">\n",
       "      <th></th>\n",
       "      <th>Id</th>\n",
       "      <th>Name</th>\n",
       "      <th>Age</th>\n",
       "      <th>Salary</th>\n",
       "    </tr>\n",
       "  </thead>\n",
       "  <tbody>\n",
       "    <tr>\n",
       "      <th>78</th>\n",
       "      <td>79</td>\n",
       "      <td>person79</td>\n",
       "      <td>31</td>\n",
       "      <td>993472</td>\n",
       "    </tr>\n",
       "    <tr>\n",
       "      <th>94</th>\n",
       "      <td>95</td>\n",
       "      <td>person95</td>\n",
       "      <td>41</td>\n",
       "      <td>990794</td>\n",
       "    </tr>\n",
       "    <tr>\n",
       "      <th>95</th>\n",
       "      <td>96</td>\n",
       "      <td>person96</td>\n",
       "      <td>58</td>\n",
       "      <td>984275</td>\n",
       "    </tr>\n",
       "    <tr>\n",
       "      <th>73</th>\n",
       "      <td>74</td>\n",
       "      <td>person74</td>\n",
       "      <td>60</td>\n",
       "      <td>980809</td>\n",
       "    </tr>\n",
       "    <tr>\n",
       "      <th>93</th>\n",
       "      <td>94</td>\n",
       "      <td>person94</td>\n",
       "      <td>51</td>\n",
       "      <td>979383</td>\n",
       "    </tr>\n",
       "    <tr>\n",
       "      <th>...</th>\n",
       "      <td>...</td>\n",
       "      <td>...</td>\n",
       "      <td>...</td>\n",
       "      <td>...</td>\n",
       "    </tr>\n",
       "    <tr>\n",
       "      <th>84</th>\n",
       "      <td>85</td>\n",
       "      <td>person85</td>\n",
       "      <td>30</td>\n",
       "      <td>73749</td>\n",
       "    </tr>\n",
       "    <tr>\n",
       "      <th>4</th>\n",
       "      <td>5</td>\n",
       "      <td>person5</td>\n",
       "      <td>44</td>\n",
       "      <td>63082</td>\n",
       "    </tr>\n",
       "    <tr>\n",
       "      <th>54</th>\n",
       "      <td>55</td>\n",
       "      <td>person55</td>\n",
       "      <td>52</td>\n",
       "      <td>60907</td>\n",
       "    </tr>\n",
       "    <tr>\n",
       "      <th>57</th>\n",
       "      <td>58</td>\n",
       "      <td>person58</td>\n",
       "      <td>20</td>\n",
       "      <td>43462</td>\n",
       "    </tr>\n",
       "    <tr>\n",
       "      <th>45</th>\n",
       "      <td>46</td>\n",
       "      <td>person46</td>\n",
       "      <td>42</td>\n",
       "      <td>33264</td>\n",
       "    </tr>\n",
       "  </tbody>\n",
       "</table>\n",
       "<p>100 rows × 4 columns</p>\n",
       "</div>"
      ],
      "text/plain": [
       "    Id      Name  Age  Salary\n",
       "78  79  person79   31  993472\n",
       "94  95  person95   41  990794\n",
       "95  96  person96   58  984275\n",
       "73  74  person74   60  980809\n",
       "93  94  person94   51  979383\n",
       "..  ..       ...  ...     ...\n",
       "84  85  person85   30   73749\n",
       "4    5   person5   44   63082\n",
       "54  55  person55   52   60907\n",
       "57  58  person58   20   43462\n",
       "45  46  person46   42   33264\n",
       "\n",
       "[100 rows x 4 columns]"
      ]
     },
     "execution_count": 69,
     "metadata": {},
     "output_type": "execute_result"
    }
   ],
   "source": [
    "df_sorted = df.sort_values(by='Salary', ascending=False)\n",
    "df_sorted"
   ]
  },
  {
   "cell_type": "code",
   "execution_count": 30,
   "id": "785ea834",
   "metadata": {},
   "outputs": [
    {
     "name": "stdout",
     "output_type": "stream",
     "text": [
      "Requirement already satisfied: tabulate in c:\\users\\one\\anaconda3\\lib\\site-packages (0.8.10)Note: you may need to restart the kernel to use updated packages.\n",
      "\n"
     ]
    }
   ],
   "source": [
    "pip install tabulate"
   ]
  },
  {
   "cell_type": "code",
   "execution_count": 32,
   "id": "ee986c09",
   "metadata": {},
   "outputs": [],
   "source": [
    "a = [1,2,3,4,5,6,7,8,9]"
   ]
  },
  {
   "cell_type": "code",
   "execution_count": 42,
   "id": "b4ee289f",
   "metadata": {},
   "outputs": [
    {
     "name": "stdout",
     "output_type": "stream",
     "text": [
      "[9, 8, 7, 6, 5, 4, 3, 2, 1]\n"
     ]
    }
   ],
   "source": [
    " print(a[::-1])"
   ]
  },
  {
   "cell_type": "code",
   "execution_count": 70,
   "id": "f9eec96b",
   "metadata": {},
   "outputs": [],
   "source": [
    "data=[\n",
    "  {\n",
    "    \"entityId\": \"200\",\n",
    "    \"accountDetails\": [\n",
    "      {\n",
    "        \"accNumber\": 87990,\n",
    "        \"ifscCode\": \"SBI001\"\n",
    "      },\n",
    "      {\n",
    "        \"accNumber\": 9888,\n",
    "        \"ifscCode\": \"SBI002\"\n",
    "      }\n",
    "    ]\n",
    "  },\n",
    "  {\n",
    "    \"entityId\": \"201\",\n",
    "    \"accountDetails\": [\n",
    "      {\n",
    "        \"accNumber\": 74321,\n",
    "        \"ifscCode\": \"HDFC002\"\n",
    "      },\n",
    "      {\n",
    "        \"accNumber\": 72323,\n",
    "        \"ifscCode\": \"HDFC001\"\n",
    "      }\n",
    "]\n",
    "},\n",
    "{\n",
    "\"entityId\": \"202\",\n",
    "\"accountDetails\": [\n",
    "{\n",
    "\"accNumber\": 8761,\n",
    "\"ifscCode\": \"HDFC001\"\n",
    "}\n",
    "]\n",
    "}\n",
    "]\n"
   ]
  },
  {
   "cell_type": "code",
   "execution_count": 73,
   "id": "f376effc",
   "metadata": {},
   "outputs": [],
   "source": [
    "# Create the pandas DataFrame\n",
    "df = pd.DataFrame(data, columns=['entityId', 'accountDetails','accNumber','ifscCode'])\n",
    "\n"
   ]
  },
  {
   "cell_type": "code",
   "execution_count": 74,
   "id": "ee3ddcfc",
   "metadata": {},
   "outputs": [
    {
     "data": {
      "text/html": [
       "<div>\n",
       "<style scoped>\n",
       "    .dataframe tbody tr th:only-of-type {\n",
       "        vertical-align: middle;\n",
       "    }\n",
       "\n",
       "    .dataframe tbody tr th {\n",
       "        vertical-align: top;\n",
       "    }\n",
       "\n",
       "    .dataframe thead th {\n",
       "        text-align: right;\n",
       "    }\n",
       "</style>\n",
       "<table border=\"1\" class=\"dataframe\">\n",
       "  <thead>\n",
       "    <tr style=\"text-align: right;\">\n",
       "      <th></th>\n",
       "      <th>entityId</th>\n",
       "      <th>accountDetails</th>\n",
       "      <th>accNumber</th>\n",
       "      <th>ifscCode</th>\n",
       "    </tr>\n",
       "  </thead>\n",
       "  <tbody>\n",
       "    <tr>\n",
       "      <th>0</th>\n",
       "      <td>200</td>\n",
       "      <td>[{'accNumber': 87990, 'ifscCode': 'SBI001'}, {...</td>\n",
       "      <td>NaN</td>\n",
       "      <td>NaN</td>\n",
       "    </tr>\n",
       "    <tr>\n",
       "      <th>1</th>\n",
       "      <td>201</td>\n",
       "      <td>[{'accNumber': 74321, 'ifscCode': 'HDFC002'}, ...</td>\n",
       "      <td>NaN</td>\n",
       "      <td>NaN</td>\n",
       "    </tr>\n",
       "    <tr>\n",
       "      <th>2</th>\n",
       "      <td>202</td>\n",
       "      <td>[{'accNumber': 8761, 'ifscCode': 'HDFC001'}]</td>\n",
       "      <td>NaN</td>\n",
       "      <td>NaN</td>\n",
       "    </tr>\n",
       "  </tbody>\n",
       "</table>\n",
       "</div>"
      ],
      "text/plain": [
       "  entityId                                     accountDetails  accNumber  \\\n",
       "0      200  [{'accNumber': 87990, 'ifscCode': 'SBI001'}, {...        NaN   \n",
       "1      201  [{'accNumber': 74321, 'ifscCode': 'HDFC002'}, ...        NaN   \n",
       "2      202       [{'accNumber': 8761, 'ifscCode': 'HDFC001'}]        NaN   \n",
       "\n",
       "   ifscCode  \n",
       "0       NaN  \n",
       "1       NaN  \n",
       "2       NaN  "
      ]
     },
     "execution_count": 74,
     "metadata": {},
     "output_type": "execute_result"
    }
   ],
   "source": [
    "df"
   ]
  },
  {
   "cell_type": "code",
   "execution_count": 78,
   "id": "f5ea6814",
   "metadata": {},
   "outputs": [
    {
     "name": "stdout",
     "output_type": "stream",
     "text": [
      "  entityId  accNumber ifscCode\n",
      "0      200      87990   SBI001\n",
      "1      200       9888   SBI002\n",
      "2      201      74321  HDFC002\n",
      "3      201      72323  HDFC001\n",
      "4      202       8761  HDFC001\n"
     ]
    }
   ],
   "source": [
    "\n",
    "# Flatten the nested data structure\n",
    "flattened_data = [\n",
    "    {\"entityId\": item[\"entityId\"], **account} for item in data for account in item[\"accountDetails\"]\n",
    "]\n",
    "\n",
    "# Create a DataFrame from the flattened data\n",
    "df = pd.DataFrame(flattened_data)\n",
    "\n",
    "# Display the DataFrame\n",
    "print(df)"
   ]
  },
  {
   "cell_type": "code",
   "execution_count": 3,
   "id": "ae6fa4ec",
   "metadata": {},
   "outputs": [
    {
     "name": "stdout",
     "output_type": "stream",
     "text": [
      "    Name  Age      City\n",
      "0   John   25  New York\n",
      "1  Alice   30    London\n",
      "2    Bob   35     Paris\n"
     ]
    }
   ],
   "source": [
    "import pandas as pd\n",
    "\n",
    "# create a dictionary\n",
    "data = {'Name': ['John', 'Alice', 'Bob'],\n",
    "       'Age': [25, 30, 35],\n",
    "       'City': ['New York', 'London', 'Paris']}\n",
    "\n",
    "# create a dataframe from the dictionary\n",
    "df = pd.DataFrame(data)\n",
    "\n",
    "print(df)"
   ]
  },
  {
   "cell_type": "code",
   "execution_count": 4,
   "id": "c6f01623",
   "metadata": {},
   "outputs": [
    {
     "name": "stdout",
     "output_type": "stream",
     "text": [
      "    Name  payment      City\n",
      "0   John     2500  New York\n",
      "1  Alice     3000    London\n",
      "2    Bob     3500     Paris\n"
     ]
    }
   ],
   "source": [
    "# create a dictionary\n",
    "data1 = {'Name': ['John', 'Alice', 'Bob'],\n",
    "       'payment': [2500, 3000, 3500],\n",
    "       'City': ['New York', 'London', 'Paris']}\n",
    "\n",
    "# create a dataframe from the dictionary\n",
    "df1 = pd.DataFrame(data1)\n",
    "\n",
    "print(df1)"
   ]
  },
  {
   "cell_type": "code",
   "execution_count": 9,
   "id": "7e0edf71",
   "metadata": {},
   "outputs": [],
   "source": [
    "# Merge the two DataFrames based on the 'Name' column\n",
    "merged_df = pd.merge(df, df1, on='City')"
   ]
  },
  {
   "cell_type": "code",
   "execution_count": 10,
   "id": "92df5852",
   "metadata": {},
   "outputs": [
    {
     "data": {
      "text/html": [
       "<div>\n",
       "<style scoped>\n",
       "    .dataframe tbody tr th:only-of-type {\n",
       "        vertical-align: middle;\n",
       "    }\n",
       "\n",
       "    .dataframe tbody tr th {\n",
       "        vertical-align: top;\n",
       "    }\n",
       "\n",
       "    .dataframe thead th {\n",
       "        text-align: right;\n",
       "    }\n",
       "</style>\n",
       "<table border=\"1\" class=\"dataframe\">\n",
       "  <thead>\n",
       "    <tr style=\"text-align: right;\">\n",
       "      <th></th>\n",
       "      <th>Name_x</th>\n",
       "      <th>Age</th>\n",
       "      <th>City</th>\n",
       "      <th>Name_y</th>\n",
       "      <th>payment</th>\n",
       "    </tr>\n",
       "  </thead>\n",
       "  <tbody>\n",
       "    <tr>\n",
       "      <th>0</th>\n",
       "      <td>John</td>\n",
       "      <td>25</td>\n",
       "      <td>New York</td>\n",
       "      <td>John</td>\n",
       "      <td>2500</td>\n",
       "    </tr>\n",
       "    <tr>\n",
       "      <th>1</th>\n",
       "      <td>Alice</td>\n",
       "      <td>30</td>\n",
       "      <td>London</td>\n",
       "      <td>Alice</td>\n",
       "      <td>3000</td>\n",
       "    </tr>\n",
       "    <tr>\n",
       "      <th>2</th>\n",
       "      <td>Bob</td>\n",
       "      <td>35</td>\n",
       "      <td>Paris</td>\n",
       "      <td>Bob</td>\n",
       "      <td>3500</td>\n",
       "    </tr>\n",
       "  </tbody>\n",
       "</table>\n",
       "</div>"
      ],
      "text/plain": [
       "  Name_x  Age      City Name_y  payment\n",
       "0   John   25  New York   John     2500\n",
       "1  Alice   30    London  Alice     3000\n",
       "2    Bob   35     Paris    Bob     3500"
      ]
     },
     "execution_count": 10,
     "metadata": {},
     "output_type": "execute_result"
    }
   ],
   "source": [
    "merged_df"
   ]
  },
  {
   "cell_type": "code",
   "execution_count": null,
   "id": "64c0d907",
   "metadata": {},
   "outputs": [],
   "source": []
  }
 ],
 "metadata": {
  "kernelspec": {
   "display_name": "Python 3 (ipykernel)",
   "language": "python",
   "name": "python3"
  },
  "language_info": {
   "codemirror_mode": {
    "name": "ipython",
    "version": 3
   },
   "file_extension": ".py",
   "mimetype": "text/x-python",
   "name": "python",
   "nbconvert_exporter": "python",
   "pygments_lexer": "ipython3",
   "version": "3.11.5"
  }
 },
 "nbformat": 4,
 "nbformat_minor": 5
}
