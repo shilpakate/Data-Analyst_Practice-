{
 "cells": [
  {
   "cell_type": "markdown",
   "id": "4ada3b81",
   "metadata": {},
   "source": [
    "# TASK2 :- Python Assessment\n"
   ]
  },
  {
   "cell_type": "raw",
   "id": "6acb8924",
   "metadata": {},
   "source": [
    "1.\tRead the csv or excel file. \n",
    "2.\tChange the datatypes of the column and check the memory usage before and after the change in the data types.\n",
    "3.\tDump the data into the mysql database.\n",
    "4.\tindex the column after the data is inserted."
   ]
  },
  {
   "cell_type": "markdown",
   "id": "42701df1",
   "metadata": {},
   "source": [
    "# Step 1: Import Libraries and Read the CSV/Excel File"
   ]
  },
  {
   "cell_type": "code",
   "execution_count": 1,
   "id": "d520477f",
   "metadata": {},
   "outputs": [
    {
     "data": {
      "text/html": [
       "<div>\n",
       "<style scoped>\n",
       "    .dataframe tbody tr th:only-of-type {\n",
       "        vertical-align: middle;\n",
       "    }\n",
       "\n",
       "    .dataframe tbody tr th {\n",
       "        vertical-align: top;\n",
       "    }\n",
       "\n",
       "    .dataframe thead th {\n",
       "        text-align: right;\n",
       "    }\n",
       "</style>\n",
       "<table border=\"1\" class=\"dataframe\">\n",
       "  <thead>\n",
       "    <tr style=\"text-align: right;\">\n",
       "      <th></th>\n",
       "      <th>bike_name</th>\n",
       "      <th>price</th>\n",
       "      <th>city</th>\n",
       "      <th>kms_driven</th>\n",
       "      <th>owner</th>\n",
       "      <th>age</th>\n",
       "      <th>power</th>\n",
       "      <th>brand</th>\n",
       "    </tr>\n",
       "  </thead>\n",
       "  <tbody>\n",
       "    <tr>\n",
       "      <th>0</th>\n",
       "      <td>TVS Star City Plus Dual Tone 110cc</td>\n",
       "      <td>35000.0</td>\n",
       "      <td>Ahmedabad</td>\n",
       "      <td>17654.0</td>\n",
       "      <td>First Owner</td>\n",
       "      <td>3.0</td>\n",
       "      <td>110.0</td>\n",
       "      <td>TVS</td>\n",
       "    </tr>\n",
       "    <tr>\n",
       "      <th>1</th>\n",
       "      <td>Royal Enfield Classic 350cc</td>\n",
       "      <td>119900.0</td>\n",
       "      <td>Delhi</td>\n",
       "      <td>11000.0</td>\n",
       "      <td>First Owner</td>\n",
       "      <td>4.0</td>\n",
       "      <td>350.0</td>\n",
       "      <td>Royal Enfield</td>\n",
       "    </tr>\n",
       "    <tr>\n",
       "      <th>2</th>\n",
       "      <td>Triumph Daytona 675R</td>\n",
       "      <td>600000.0</td>\n",
       "      <td>Delhi</td>\n",
       "      <td>110.0</td>\n",
       "      <td>First Owner</td>\n",
       "      <td>8.0</td>\n",
       "      <td>675.0</td>\n",
       "      <td>Triumph</td>\n",
       "    </tr>\n",
       "    <tr>\n",
       "      <th>3</th>\n",
       "      <td>TVS Apache RTR 180cc</td>\n",
       "      <td>65000.0</td>\n",
       "      <td>Bangalore</td>\n",
       "      <td>16329.0</td>\n",
       "      <td>First Owner</td>\n",
       "      <td>4.0</td>\n",
       "      <td>180.0</td>\n",
       "      <td>TVS</td>\n",
       "    </tr>\n",
       "    <tr>\n",
       "      <th>4</th>\n",
       "      <td>Yamaha FZ S V 2.0 150cc-Ltd. Edition</td>\n",
       "      <td>80000.0</td>\n",
       "      <td>Bangalore</td>\n",
       "      <td>10000.0</td>\n",
       "      <td>First Owner</td>\n",
       "      <td>3.0</td>\n",
       "      <td>150.0</td>\n",
       "      <td>Yamaha</td>\n",
       "    </tr>\n",
       "    <tr>\n",
       "      <th>...</th>\n",
       "      <td>...</td>\n",
       "      <td>...</td>\n",
       "      <td>...</td>\n",
       "      <td>...</td>\n",
       "      <td>...</td>\n",
       "      <td>...</td>\n",
       "      <td>...</td>\n",
       "      <td>...</td>\n",
       "    </tr>\n",
       "    <tr>\n",
       "      <th>144</th>\n",
       "      <td>Royal Enfield Standard 350cc</td>\n",
       "      <td>115000.0</td>\n",
       "      <td>Hyderabad</td>\n",
       "      <td>14900.0</td>\n",
       "      <td>First Owner</td>\n",
       "      <td>3.0</td>\n",
       "      <td>350.0</td>\n",
       "      <td>Royal Enfield</td>\n",
       "    </tr>\n",
       "    <tr>\n",
       "      <th>145</th>\n",
       "      <td>Honda CB Shine 125cc Disc</td>\n",
       "      <td>65000.0</td>\n",
       "      <td>Mumbai</td>\n",
       "      <td>2000.0</td>\n",
       "      <td>First Owner</td>\n",
       "      <td>3.0</td>\n",
       "      <td>125.0</td>\n",
       "      <td>Honda</td>\n",
       "    </tr>\n",
       "    <tr>\n",
       "      <th>146</th>\n",
       "      <td>Honda CB Unicorn ABS 150cc</td>\n",
       "      <td>99000.0</td>\n",
       "      <td>Mumbai</td>\n",
       "      <td>4000.0</td>\n",
       "      <td>First Owner</td>\n",
       "      <td>2.0</td>\n",
       "      <td>150.0</td>\n",
       "      <td>Honda</td>\n",
       "    </tr>\n",
       "    <tr>\n",
       "      <th>147</th>\n",
       "      <td>Yamaha YZF-R15 2.0 150cc</td>\n",
       "      <td>68500.0</td>\n",
       "      <td>Delhi</td>\n",
       "      <td>68500.0</td>\n",
       "      <td>Second Owner</td>\n",
       "      <td>7.0</td>\n",
       "      <td>150.0</td>\n",
       "      <td>Yamaha</td>\n",
       "    </tr>\n",
       "    <tr>\n",
       "      <th>148</th>\n",
       "      <td>Yamaha YZF-R15 V3 150cc</td>\n",
       "      <td>140000.0</td>\n",
       "      <td>Delhi</td>\n",
       "      <td>2473.0</td>\n",
       "      <td>First Owner</td>\n",
       "      <td>2.0</td>\n",
       "      <td>150.0</td>\n",
       "      <td>Yamaha</td>\n",
       "    </tr>\n",
       "  </tbody>\n",
       "</table>\n",
       "<p>149 rows × 8 columns</p>\n",
       "</div>"
      ],
      "text/plain": [
       "                                bike_name     price       city  kms_driven  \\\n",
       "0      TVS Star City Plus Dual Tone 110cc   35000.0  Ahmedabad     17654.0   \n",
       "1             Royal Enfield Classic 350cc  119900.0      Delhi     11000.0   \n",
       "2                    Triumph Daytona 675R  600000.0      Delhi       110.0   \n",
       "3                    TVS Apache RTR 180cc   65000.0  Bangalore     16329.0   \n",
       "4    Yamaha FZ S V 2.0 150cc-Ltd. Edition   80000.0  Bangalore     10000.0   \n",
       "..                                    ...       ...        ...         ...   \n",
       "144          Royal Enfield Standard 350cc  115000.0  Hyderabad     14900.0   \n",
       "145             Honda CB Shine 125cc Disc   65000.0     Mumbai      2000.0   \n",
       "146            Honda CB Unicorn ABS 150cc   99000.0     Mumbai      4000.0   \n",
       "147              Yamaha YZF-R15 2.0 150cc   68500.0      Delhi     68500.0   \n",
       "148               Yamaha YZF-R15 V3 150cc  140000.0      Delhi      2473.0   \n",
       "\n",
       "            owner  age  power          brand  \n",
       "0     First Owner  3.0  110.0            TVS  \n",
       "1     First Owner  4.0  350.0  Royal Enfield  \n",
       "2     First Owner  8.0  675.0        Triumph  \n",
       "3     First Owner  4.0  180.0            TVS  \n",
       "4     First Owner  3.0  150.0         Yamaha  \n",
       "..            ...  ...    ...            ...  \n",
       "144   First Owner  3.0  350.0  Royal Enfield  \n",
       "145   First Owner  3.0  125.0          Honda  \n",
       "146   First Owner  2.0  150.0          Honda  \n",
       "147  Second Owner  7.0  150.0         Yamaha  \n",
       "148   First Owner  2.0  150.0         Yamaha  \n",
       "\n",
       "[149 rows x 8 columns]"
      ]
     },
     "execution_count": 1,
     "metadata": {},
     "output_type": "execute_result"
    }
   ],
   "source": [
    "import pandas as pd\n",
    "\n",
    "# Read the CSV or Excel file\n",
    "file_path = 'D:\\\\Data Anlayst\\\\NeenOpal\\\\used_bikes.csv'  # Replace with the path to your file\n",
    "df = pd.read_csv(file_path)  # Use read_excel() if your file is in Excel format\n",
    "df"
   ]
  },
  {
   "cell_type": "code",
   "execution_count": 2,
   "id": "ae546917",
   "metadata": {},
   "outputs": [
    {
     "data": {
      "text/plain": [
       "bike_name      object\n",
       "price         float64\n",
       "city           object\n",
       "kms_driven    float64\n",
       "owner          object\n",
       "age           float64\n",
       "power         float64\n",
       "brand          object\n",
       "dtype: object"
      ]
     },
     "execution_count": 2,
     "metadata": {},
     "output_type": "execute_result"
    }
   ],
   "source": [
    "df.dtypes"
   ]
  },
  {
   "cell_type": "markdown",
   "id": "11f9cc42",
   "metadata": {},
   "source": [
    "# Step 2: Check Memory Usage Before Data Type Change"
   ]
  },
  {
   "cell_type": "code",
   "execution_count": 3,
   "id": "4cdb5914",
   "metadata": {},
   "outputs": [
    {
     "name": "stdout",
     "output_type": "stream",
     "text": [
      "Memory usage before data type change: \n"
     ]
    },
    {
     "data": {
      "text/plain": [
       "46061"
      ]
     },
     "execution_count": 3,
     "metadata": {},
     "output_type": "execute_result"
    }
   ],
   "source": [
    "# Display memory usage before changing data types\n",
    "original_memory_usage = df.memory_usage(deep=True).sum()\n",
    "print(f\"Memory usage before data type change: \")\n",
    "original_memory_usage"
   ]
  },
  {
   "cell_type": "markdown",
   "id": "d3de8113",
   "metadata": {},
   "source": [
    "# Step 3: Change Data Types"
   ]
  },
  {
   "cell_type": "code",
   "execution_count": 4,
   "id": "79694c58",
   "metadata": {},
   "outputs": [],
   "source": [
    "# Change data types as needed\n",
    "# Example for optimizing float columns\n",
    "\n",
    "df['bike_name'] = df['bike_name'].astype(str)\n",
    "df['price'] = df['price'].astype(int)\n",
    "df['kms_driven'] = df['kms_driven'].astype(int)\n",
    "\n",
    "# Example for optimizing integer columns\n",
    "df['age'] = df['age'].astype(int)\n"
   ]
  },
  {
   "cell_type": "code",
   "execution_count": 5,
   "id": "50dee7a9",
   "metadata": {},
   "outputs": [],
   "source": [
    "# Example for optimizing object columns\n",
    "df['owner'] = df['owner'].astype(str)\n",
    "df['brand'] = df['brand'].astype(str)"
   ]
  },
  {
   "cell_type": "markdown",
   "id": "735afaa8",
   "metadata": {},
   "source": [
    "# Step 4: Check Memory Usage After Data Type Change"
   ]
  },
  {
   "cell_type": "code",
   "execution_count": 6,
   "id": "acc4589b",
   "metadata": {},
   "outputs": [
    {
     "name": "stdout",
     "output_type": "stream",
     "text": [
      "\n",
      "Memory Usage After Optimization:\n",
      "44273\n"
     ]
    }
   ],
   "source": [
    "# Display memory usage after changing data types\n",
    "print(\"\\nMemory Usage After Optimization:\")\n",
    "print(df.memory_usage(deep=True).sum())\n",
    "\n"
   ]
  },
  {
   "cell_type": "markdown",
   "id": "e247fe80",
   "metadata": {},
   "source": [
    "# Step 5:  Create a connection string"
   ]
  },
  {
   "cell_type": "code",
   "execution_count": 7,
   "id": "d3c29d8a",
   "metadata": {},
   "outputs": [],
   "source": [
    "import pandas as pd\n",
    "from sqlalchemy import create_engine\n",
    "\n",
    "# Replace these values with your actual SQL Server connection details\n",
    "server_name = 'LAPTOP-8B4KETL7'\n",
    "database_name = 'NeenOpal'\n",
    "\n",
    "conn_str = f'DRIVER=ODBC Driver 17 for SQL Server;' \\\n",
    "           f'SERVER={server_name};' \\\n",
    "           f'DATABASE={database_name};' \\\n",
    "           f'Trusted_Connection=yes;'\n",
    "engine = create_engine(f'mssql+pyodbc:///?odbc_connect={conn_str}')\n",
    "\n"
   ]
  },
  {
   "cell_type": "markdown",
   "id": "72702998",
   "metadata": {},
   "source": [
    "# Step 6:Dump Data into SQL Server Database using SQLAlchemy engine"
   ]
  },
  {
   "cell_type": "code",
   "execution_count": 8,
   "id": "f9eceeb6",
   "metadata": {},
   "outputs": [
    {
     "name": "stdout",
     "output_type": "stream",
     "text": [
      "Contents of BikeTable:\n",
      "\n",
      "                              bike_name   price       city  kms_driven  \\\n",
      "0    TVS Star City Plus Dual Tone 110cc   35000  Ahmedabad       17654   \n",
      "1           Royal Enfield Classic 350cc  119900      Delhi       11000   \n",
      "2                  Triumph Daytona 675R  600000      Delhi         110   \n",
      "3                  TVS Apache RTR 180cc   65000  Bangalore       16329   \n",
      "4  Yamaha FZ S V 2.0 150cc-Ltd. Edition   80000  Bangalore       10000   \n",
      "\n",
      "         owner  age  power          brand  \n",
      "0  First Owner    3  110.0            TVS  \n",
      "1  First Owner    4  350.0  Royal Enfield  \n",
      "2  First Owner    8  675.0        Triumph  \n",
      "3  First Owner    4  180.0            TVS  \n",
      "4  First Owner    3  150.0         Yamaha  \n"
     ]
    }
   ],
   "source": [
    "# Step 2: Dump Data into SQL Server Database using SQLAlchemy engine\n",
    "table_name = 'BikeTable'  # Replace with your desired table name\n",
    "df.to_sql(table_name, engine, index=False, if_exists='replace', schema='dbo')\n",
    "# Create a new Sr_No column with sequential numbers starting from 1\n",
    "\n",
    "# Query and display the table contents\n",
    "query = f\"SELECT * FROM {'BikeTable'};\"\n",
    "df_result = pd.read_sql(query, engine)\n",
    "\n",
    "print(f\"Contents of {'BikeTable'}:\\n\")\n",
    "print(df_result.head(5))"
   ]
  },
  {
   "cell_type": "markdown",
   "id": "0f4cc304",
   "metadata": {},
   "source": [
    "# Step 7 :Create Index to column"
   ]
  },
  {
   "cell_type": "code",
   "execution_count": 9,
   "id": "43540c73",
   "metadata": {},
   "outputs": [
    {
     "name": "stdout",
     "output_type": "stream",
     "text": [
      "The index idx_age has been added to BikeTable\n"
     ]
    }
   ],
   "source": [
    "# Specify the column to index (replace 'Your_Index_Column' with the actual column name)\n",
    "index_column = 'age'\n",
    "\n",
    "# Specify the table name\n",
    "table_name = 'BikeTable'\n",
    "\n",
    "# Check if the index column exists in the DataFrame and in the database table\n",
    "if index_column in df.columns:\n",
    "    # Create the index\n",
    "    with engine.connect() as connection:\n",
    "        connection.execute(f\"CREATE INDEX idx_{index_column} ON {table_name} ({index_column});\")\n",
    "       \n",
    "    print(f\"The index idx_{index_column} has been added to {table_name}\")\n",
    "else:\n",
    "    print(f\"Error: The column {index_column} is not available in the DataFrame or the table.\")"
   ]
  },
  {
   "cell_type": "markdown",
   "id": "aa35ace6",
   "metadata": {},
   "source": [
    "# Step 8: Remove Index from Table (optional if you want to recreate it)"
   ]
  },
  {
   "cell_type": "code",
   "execution_count": 10,
   "id": "59fe6ec9",
   "metadata": {},
   "outputs": [
    {
     "name": "stdout",
     "output_type": "stream",
     "text": [
      "The index idx_age has been removed from BikeTable.\n"
     ]
    }
   ],
   "source": [
    "# Remove the index\n",
    "index_name = 'idx_age'\n",
    "\n",
    "# Specify the table name\n",
    "table_name = 'BikeTable'\n",
    "with engine.connect() as connection:\n",
    "    connection.execute(f\"DROP INDEX {index_name} ON {table_name};\")\n",
    "\n",
    "print(f\"The index {index_name} has been removed from {table_name}.\")"
   ]
  },
  {
   "cell_type": "code",
   "execution_count": 11,
   "id": "b72edd9e",
   "metadata": {},
   "outputs": [],
   "source": [
    "#Create index for Bike_name"
   ]
  },
  {
   "cell_type": "code",
   "execution_count": 12,
   "id": "04e996e2",
   "metadata": {},
   "outputs": [
    {
     "name": "stdout",
     "output_type": "stream",
     "text": [
      "The index idx_CN bike_name has been added to BikeTable\n"
     ]
    }
   ],
   "source": [
    "# Specify the column to index (replace 'Your_Index_Column' with the actual column name)\n",
    "index_column = 'bike_name'\n",
    "\n",
    "# Specify the table name\n",
    "table_name = 'BikeTable'\n",
    "\n",
    "# Check if the index column exists in the DataFrame and in the database table\n",
    "if index_column in df.columns:\n",
    "    # Create the index\n",
    "    with engine.connect() as connection:\n",
    "        connection.execute(f\"ALTER TABLE {table_name} ALTER COLUMN bike_name VARCHAR(255);\")\n",
    "        connection.execute(f\"CREATE INDEX idx_{index_column} ON {table_name} ({index_column});\")\n",
    "       \n",
    "    print(f\"The index idx_CN {index_column} has been added to {table_name}\")\n",
    "else:\n",
    "    print(f\"Error: The column {index_column} is not available in the DataFrame or the table.\")"
   ]
  },
  {
   "cell_type": "code",
   "execution_count": 13,
   "id": "260a3bdc",
   "metadata": {},
   "outputs": [
    {
     "name": "stdout",
     "output_type": "stream",
     "text": [
      "select * from BikeTable\n",
      "Contents of BikeTable:\n",
      "\n",
      "                              bike_name   price       city  kms_driven  \\\n",
      "0    TVS Star City Plus Dual Tone 110cc   35000  Ahmedabad       17654   \n",
      "1           Royal Enfield Classic 350cc  119900      Delhi       11000   \n",
      "2                  Triumph Daytona 675R  600000      Delhi         110   \n",
      "3                  TVS Apache RTR 180cc   65000  Bangalore       16329   \n",
      "4  Yamaha FZ S V 2.0 150cc-Ltd. Edition   80000  Bangalore       10000   \n",
      "\n",
      "         owner  age  power          brand  \n",
      "0  First Owner    3  110.0            TVS  \n",
      "1  First Owner    4  350.0  Royal Enfield  \n",
      "2  First Owner    8  675.0        Triumph  \n",
      "3  First Owner    4  180.0            TVS  \n",
      "4  First Owner    3  150.0         Yamaha  \n"
     ]
    }
   ],
   "source": [
    "    print(f\"select * from {table_name}\")\n",
    "    query = f\"SELECT * FROM {'BikeTable'};\"\n",
    "    df_result = pd.read_sql(query, engine)\n",
    "\n",
    "    print(f\"Contents of {'BikeTable'}:\\n\")\n",
    "    print(df_result.head(5))"
   ]
  },
  {
   "cell_type": "code",
   "execution_count": null,
   "id": "c6370183",
   "metadata": {},
   "outputs": [],
   "source": []
  },
  {
   "cell_type": "code",
   "execution_count": null,
   "id": "eefce3a1",
   "metadata": {},
   "outputs": [],
   "source": []
  }
 ],
 "metadata": {
  "kernelspec": {
   "display_name": "Python 3 (ipykernel)",
   "language": "python",
   "name": "python3"
  },
  "language_info": {
   "codemirror_mode": {
    "name": "ipython",
    "version": 3
   },
   "file_extension": ".py",
   "mimetype": "text/x-python",
   "name": "python",
   "nbconvert_exporter": "python",
   "pygments_lexer": "ipython3",
   "version": "3.11.5"
  }
 },
 "nbformat": 4,
 "nbformat_minor": 5
}
