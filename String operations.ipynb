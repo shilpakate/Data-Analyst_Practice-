{
 "cells": [
  {
   "cell_type": "markdown",
   "id": "05ab2cf3",
   "metadata": {},
   "source": [
    "# String operations"
   ]
  },
  {
   "cell_type": "markdown",
   "id": "81863d31",
   "metadata": {},
   "source": [
    "# To find palindrome"
   ]
  },
  {
   "cell_type": "code",
   "execution_count": 11,
   "id": "fb0fc8ec",
   "metadata": {},
   "outputs": [
    {
     "name": "stdout",
     "output_type": "stream",
     "text": [
      "Enter StringMEEM\n"
     ]
    }
   ],
   "source": []
  },
  {
   "cell_type": "code",
   "execution_count": 15,
   "id": "a6121d82",
   "metadata": {},
   "outputs": [
    {
     "name": "stdout",
     "output_type": "stream",
     "text": [
      "Enter Stringrrr\n",
      "The Enterted string is palindrome\n"
     ]
    }
   ],
   "source": [
    "a=input(\"Enter String\")\n",
    "palindrome(a)\n",
    "def palindrome(a):\n",
    "    mid=(len(a)-1)//2\n",
    "    start=0\n",
    "    last=len(a)-1\n",
    "    flag=0\n",
    "    while(start<=mid):\n",
    "        if(a[start]==a[last]):\n",
    "            start=start+1\n",
    "            last=last-1\n",
    "        else:\n",
    "            flag=1\n",
    "            break;\n",
    "        \n",
    "    if flag==0:\n",
    "        print(\"The Enterted string is palindrome\")\n",
    "    else:\n",
    "        print(\"Its not palindrome\")\n",
    "        "
   ]
  },
  {
   "cell_type": "code",
   "execution_count": 33,
   "id": "6b9d7235",
   "metadata": {},
   "outputs": [
    {
     "name": "stdout",
     "output_type": "stream",
     "text": [
      "bmaamb Is not Symmetric\n",
      "bmaamb Its palindrome\n"
     ]
    }
   ],
   "source": [
    "\n",
    "\n",
    "a = 'bmaamb'\n",
    "half = int(len(a) / 2)\n",
    "first=a[:half]\n",
    "second=a[half:]\n",
    "#Symmetric\n",
    "if first==second:\n",
    "    print(a,'Is symmetric')\n",
    "else :\n",
    "    print(a,'Is not Symmetric')\n",
    "    \n",
    "if first==second[::-1]:\n",
    "    print(a,'Its palindrome')\n",
    "else:\n",
    "    print(a, 'Its not palindrome')\n",
    "    "
   ]
  },
  {
   "cell_type": "markdown",
   "id": "edcf0e21",
   "metadata": {},
   "source": [
    "# Occurences of Each character in the String\n"
   ]
  },
  {
   "cell_type": "code",
   "execution_count": 36,
   "id": "8051a444",
   "metadata": {},
   "outputs": [
    {
     "name": "stdout",
     "output_type": "stream",
     "text": [
      "occureances of all characters in given string{'t': 2, 'i': 2, 'r': 1, 'y': 1, 'e': 1, 'm': 1, 'a': 4, 'v': 1, 'd': 1, 'k': 2}\n"
     ]
    }
   ],
   "source": [
    "input=\"vikramadityakate\"\n",
    "out={x:input.count(x) for x in set(input)}\n",
    "print(\"occureances of all characters in given string\"+str(out))"
   ]
  },
  {
   "cell_type": "code",
   "execution_count": 37,
   "id": "08780a7c",
   "metadata": {},
   "outputs": [],
   "source": [
    "from collections import Counter"
   ]
  },
  {
   "cell_type": "code",
   "execution_count": 38,
   "id": "ab2a27b6",
   "metadata": {},
   "outputs": [
    {
     "name": "stdout",
     "output_type": "stream",
     "text": [
      "Occurences of all characters isCounter({'a': 3, 't': 2, 'p': 1, 'r': 1, 's': 1, 'h': 1, 'n': 1, 'k': 1, 'e': 1})\n"
     ]
    }
   ],
   "source": [
    "int_str=\"prashantkate\"\n",
    "out=Counter(int_str)\n",
    "print(\"Occurences of all characters is\"+str(out))"
   ]
  },
  {
   "cell_type": "markdown",
   "id": "3a74b172",
   "metadata": {},
   "source": [
    "# Program to reverse a string "
   ]
  },
  {
   "cell_type": "code",
   "execution_count": 2,
   "id": "1a039b38",
   "metadata": {},
   "outputs": [
    {
     "name": "stdout",
     "output_type": "stream",
     "text": [
      "etaKtnahsarPaplihS\n"
     ]
    }
   ],
   "source": [
    "\n",
    "  \n",
    "spk = \"ShilpaPrashantKate\"\n",
    "  \n",
    "# Reverse the string using reversed and join function \n",
    "g = \"\".join(reversed(spk)) \n",
    "  \n",
    "print(g) "
   ]
  },
  {
   "cell_type": "code",
   "execution_count": 7,
   "id": "0c07add1",
   "metadata": {},
   "outputs": [],
   "source": [
    "d=\"\".join((spk))"
   ]
  },
  {
   "cell_type": "code",
   "execution_count": 8,
   "id": "676dc4fc",
   "metadata": {},
   "outputs": [
    {
     "data": {
      "text/plain": [
       "'ShilpaPrashantKate'"
      ]
     },
     "execution_count": 8,
     "metadata": {},
     "output_type": "execute_result"
    }
   ],
   "source": [
    "d"
   ]
  },
  {
   "cell_type": "markdown",
   "id": "46f3ebb1",
   "metadata": {},
   "source": [
    "# Python program to count the no of occurences of word in given String"
   ]
  },
  {
   "cell_type": "code",
   "execution_count": 17,
   "id": "b82fc01c",
   "metadata": {},
   "outputs": [
    {
     "name": "stdout",
     "output_type": "stream",
     "text": [
      "2\n"
     ]
    }
   ],
   "source": [
    "def CountOfOcc(str,word):\n",
    "    a=str.split(\" \")\n",
    "    count=0\n",
    "    for i in range(0,len(a)):\n",
    "        if(word==a[i]):\n",
    "            count=count+1\n",
    "    return count\n",
    "    \n",
    "str=\"Shilpa Prashant Kate Vikramaditya Shilpa\"\n",
    "word=\"Shilpa\"\n",
    "print(CountOfOcc(str,word))"
   ]
  },
  {
   "cell_type": "code",
   "execution_count": 18,
   "id": "6dae1653",
   "metadata": {},
   "outputs": [
    {
     "name": "stdout",
     "output_type": "stream",
     "text": [
      "3\n"
     ]
    }
   ],
   "source": [
    "def countofocc(str,word):\n",
    "    wordlist=list(str.split())\n",
    "    return wordlist.count(word)\n",
    "str=\"Viru Viru Kate Viru\"\n",
    "word=\"Viru\"\n",
    "print(countofocc(str,word))"
   ]
  },
  {
   "cell_type": "code",
   "execution_count": null,
   "id": "11c7eca6",
   "metadata": {},
   "outputs": [],
   "source": []
  }
 ],
 "metadata": {
  "kernelspec": {
   "display_name": "Python 3 (ipykernel)",
   "language": "python",
   "name": "python3"
  },
  "language_info": {
   "codemirror_mode": {
    "name": "ipython",
    "version": 3
   },
   "file_extension": ".py",
   "mimetype": "text/x-python",
   "name": "python",
   "nbconvert_exporter": "python",
   "pygments_lexer": "ipython3",
   "version": "3.11.5"
  }
 },
 "nbformat": 4,
 "nbformat_minor": 5
}
