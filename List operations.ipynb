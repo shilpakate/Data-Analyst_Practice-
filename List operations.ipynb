{
 "cells": [
  {
   "cell_type": "code",
   "execution_count": 1,
   "id": "02db4dd8",
   "metadata": {},
   "outputs": [],
   "source": [
    "#list operations"
   ]
  },
  {
   "cell_type": "code",
   "execution_count": 2,
   "id": "8f28d67b",
   "metadata": {},
   "outputs": [],
   "source": [
    "lst=[1,2,3,4,5,6,7]\n"
   ]
  },
  {
   "cell_type": "code",
   "execution_count": 3,
   "id": "d21afd8f",
   "metadata": {},
   "outputs": [
    {
     "data": {
      "text/plain": [
       "[7, 6, 5, 4, 3, 2, 1]"
      ]
     },
     "execution_count": 3,
     "metadata": {},
     "output_type": "execute_result"
    }
   ],
   "source": [
    "lst[::-1]"
   ]
  },
  {
   "cell_type": "code",
   "execution_count": 4,
   "id": "6d5d357e",
   "metadata": {},
   "outputs": [
    {
     "data": {
      "text/plain": [
       "[7, 5, 3, 1]"
      ]
     },
     "execution_count": 4,
     "metadata": {},
     "output_type": "execute_result"
    }
   ],
   "source": [
    "lst[::-2]"
   ]
  },
  {
   "cell_type": "code",
   "execution_count": 5,
   "id": "c73effec",
   "metadata": {},
   "outputs": [],
   "source": [
    "#INSERT Number between list"
   ]
  },
  {
   "cell_type": "code",
   "execution_count": 8,
   "id": "952eb498",
   "metadata": {},
   "outputs": [],
   "source": [
    "lst.insert(1,50)"
   ]
  },
  {
   "cell_type": "code",
   "execution_count": 10,
   "id": "a25e832c",
   "metadata": {},
   "outputs": [],
   "source": [
    "#delete Numder from list"
   ]
  },
  {
   "cell_type": "code",
   "execution_count": 18,
   "id": "10af6366",
   "metadata": {},
   "outputs": [
    {
     "data": {
      "text/plain": [
       "[1, 2, 3, 4, 5, 6, 7]"
      ]
     },
     "execution_count": 18,
     "metadata": {},
     "output_type": "execute_result"
    }
   ],
   "source": [
    "F_list=[i for i in lst if i!=50]\n",
    "F_list"
   ]
  },
  {
   "cell_type": "code",
   "execution_count": null,
   "id": "6ab54cb6",
   "metadata": {},
   "outputs": [],
   "source": [
    "# Add element at last and first location"
   ]
  },
  {
   "cell_type": "code",
   "execution_count": 19,
   "id": "0276ef38",
   "metadata": {},
   "outputs": [
    {
     "data": {
      "text/plain": [
       "[4, 1, 50, 2, 3, 4, 5, 6, 7, 100]"
      ]
     },
     "execution_count": 19,
     "metadata": {},
     "output_type": "execute_result"
    }
   ],
   "source": [
    "lst.insert(10,100)\n",
    "lst\n",
    "lst.insert(-10,4)\n",
    "lst"
   ]
  },
  {
   "cell_type": "code",
   "execution_count": null,
   "id": "d9dd457d",
   "metadata": {},
   "outputs": [],
   "source": [
    "# Add range of element\n"
   ]
  },
  {
   "cell_type": "code",
   "execution_count": 25,
   "id": "164d5c8a",
   "metadata": {},
   "outputs": [
    {
     "data": {
      "text/plain": [
       "[4, 1, 101, 301, 50, 2, 3, 4, 5, 6, 7, 100]"
      ]
     },
     "execution_count": 25,
     "metadata": {},
     "output_type": "execute_result"
    }
   ],
   "source": [
    "lst[2:2]=[101,301]\n",
    "lst"
   ]
  },
  {
   "cell_type": "code",
   "execution_count": 32,
   "id": "9d440d56",
   "metadata": {},
   "outputs": [
    {
     "data": {
      "text/plain": [
       "[4, 1]"
      ]
     },
     "execution_count": 32,
     "metadata": {},
     "output_type": "execute_result"
    }
   ],
   "source": [
    "#delete from list\n",
    "del lst[2]\n",
    "lst\n",
    "del lst[2:4]\n",
    "lst\n"
   ]
  },
  {
   "cell_type": "code",
   "execution_count": 33,
   "id": "0b8b47f9",
   "metadata": {},
   "outputs": [],
   "source": [
    "#delete whole list\n",
    "del lst"
   ]
  },
  {
   "cell_type": "code",
   "execution_count": 34,
   "id": "614da740",
   "metadata": {},
   "outputs": [
    {
     "ename": "NameError",
     "evalue": "name 'lst' is not defined",
     "output_type": "error",
     "traceback": [
      "\u001b[1;31m---------------------------------------------------------------------------\u001b[0m",
      "\u001b[1;31mNameError\u001b[0m                                 Traceback (most recent call last)",
      "Cell \u001b[1;32mIn[34], line 1\u001b[0m\n\u001b[1;32m----> 1\u001b[0m lst\n",
      "\u001b[1;31mNameError\u001b[0m: name 'lst' is not defined"
     ]
    }
   ],
   "source": [
    "lst"
   ]
  },
  {
   "cell_type": "code",
   "execution_count": 35,
   "id": "777184d9",
   "metadata": {},
   "outputs": [],
   "source": [
    "lst=['a','b','c','d','e','f','c']"
   ]
  },
  {
   "cell_type": "code",
   "execution_count": null,
   "id": "ba783581",
   "metadata": {},
   "outputs": [],
   "source": [
    "# delete element with name not by location index"
   ]
  },
  {
   "cell_type": "code",
   "execution_count": 36,
   "id": "64bde23c",
   "metadata": {},
   "outputs": [],
   "source": [
    "lst.remove('c')"
   ]
  },
  {
   "cell_type": "code",
   "execution_count": 37,
   "id": "632258d8",
   "metadata": {},
   "outputs": [
    {
     "data": {
      "text/plain": [
       "['a', 'b', 'd', 'e', 'f', 'c']"
      ]
     },
     "execution_count": 37,
     "metadata": {},
     "output_type": "execute_result"
    }
   ],
   "source": [
    "lst"
   ]
  },
  {
   "cell_type": "code",
   "execution_count": 38,
   "id": "3e73fc14",
   "metadata": {},
   "outputs": [],
   "source": [
    "#remove last element"
   ]
  },
  {
   "cell_type": "code",
   "execution_count": 39,
   "id": "74c023b5",
   "metadata": {},
   "outputs": [
    {
     "data": {
      "text/plain": [
       "'c'"
      ]
     },
     "execution_count": 39,
     "metadata": {},
     "output_type": "execute_result"
    }
   ],
   "source": [
    "lst.pop()"
   ]
  },
  {
   "cell_type": "code",
   "execution_count": 40,
   "id": "8cd1ae8d",
   "metadata": {},
   "outputs": [
    {
     "data": {
      "text/plain": [
       "['a', 'b', 'd', 'e', 'f']"
      ]
     },
     "execution_count": 40,
     "metadata": {},
     "output_type": "execute_result"
    }
   ],
   "source": [
    "lst"
   ]
  },
  {
   "cell_type": "code",
   "execution_count": null,
   "id": "a9ec3eaf",
   "metadata": {},
   "outputs": [],
   "source": [
    "#remove the elemnets with Pop by index position"
   ]
  },
  {
   "cell_type": "code",
   "execution_count": 41,
   "id": "e1206211",
   "metadata": {},
   "outputs": [
    {
     "data": {
      "text/plain": [
       "'b'"
      ]
     },
     "execution_count": 41,
     "metadata": {},
     "output_type": "execute_result"
    }
   ],
   "source": [
    "lst.pop(1)"
   ]
  },
  {
   "cell_type": "code",
   "execution_count": 42,
   "id": "c4ca0726",
   "metadata": {},
   "outputs": [
    {
     "data": {
      "text/plain": [
       "['a', 'd', 'e', 'f']"
      ]
     },
     "execution_count": 42,
     "metadata": {},
     "output_type": "execute_result"
    }
   ],
   "source": [
    "lst"
   ]
  },
  {
   "cell_type": "code",
   "execution_count": null,
   "id": "e9729e35",
   "metadata": {},
   "outputs": [],
   "source": [
    "# gives  Error "
   ]
  },
  {
   "cell_type": "code",
   "execution_count": 14,
   "id": "4a534a76",
   "metadata": {},
   "outputs": [
    {
     "name": "stdout",
     "output_type": "stream",
     "text": [
      "['Item1', 'Item2', 'Item3']\n"
     ]
    }
   ],
   "source": [
    "\n",
    "my_list = [\"Item1\", \"Number\", \"Item2\", \"Number\", \"Item3\"]\n",
    "\n",
    "# Remove occurrences of \"Number\" from the list\n",
    "filtered_list = [item for item in my_list if item != \"Number\"]\n",
    "\n",
    "print(filtered_list)"
   ]
  },
  {
   "cell_type": "code",
   "execution_count": null,
   "id": "0888ba52",
   "metadata": {},
   "outputs": [],
   "source": []
  }
 ],
 "metadata": {
  "kernelspec": {
   "display_name": "Python 3 (ipykernel)",
   "language": "python",
   "name": "python3"
  },
  "language_info": {
   "codemirror_mode": {
    "name": "ipython",
    "version": 3
   },
   "file_extension": ".py",
   "mimetype": "text/x-python",
   "name": "python",
   "nbconvert_exporter": "python",
   "pygments_lexer": "ipython3",
   "version": "3.11.5"
  }
 },
 "nbformat": 4,
 "nbformat_minor": 5
}
