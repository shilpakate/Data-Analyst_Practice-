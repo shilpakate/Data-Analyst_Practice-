{
 "cells": [
  {
   "cell_type": "code",
   "execution_count": 1,
   "id": "19ee941c",
   "metadata": {},
   "outputs": [],
   "source": [
    "# how to define dictionary"
   ]
  },
  {
   "cell_type": "code",
   "execution_count": 2,
   "id": "dde3d4c6",
   "metadata": {},
   "outputs": [],
   "source": [
    "d={}"
   ]
  },
  {
   "cell_type": "code",
   "execution_count": 3,
   "id": "f78c3379",
   "metadata": {},
   "outputs": [
    {
     "name": "stdout",
     "output_type": "stream",
     "text": [
      "{}\n"
     ]
    }
   ],
   "source": [
    "print(d)"
   ]
  },
  {
   "cell_type": "code",
   "execution_count": 6,
   "id": "d26f7d46",
   "metadata": {},
   "outputs": [],
   "source": [
    "d=dict({1:\"Shilpa\",2:\"Prashant\",3:\"Riya\"}) # create by using dict() method"
   ]
  },
  {
   "cell_type": "code",
   "execution_count": 7,
   "id": "3c1256fc",
   "metadata": {},
   "outputs": [
    {
     "data": {
      "text/plain": [
       "{1: 'Shilpa', 2: 'Prashant', 3: 'Riya'}"
      ]
     },
     "execution_count": 7,
     "metadata": {},
     "output_type": "execute_result"
    }
   ],
   "source": [
    "d"
   ]
  },
  {
   "cell_type": "code",
   "execution_count": 8,
   "id": "8ce82a0f",
   "metadata": {},
   "outputs": [],
   "source": [
    "# create dictionary by using key- value format"
   ]
  },
  {
   "cell_type": "code",
   "execution_count": 9,
   "id": "22f43f0b",
   "metadata": {},
   "outputs": [],
   "source": [
    "d=dict([(1,\"java\"),(2,\"c\")])"
   ]
  },
  {
   "cell_type": "code",
   "execution_count": null,
   "id": "e9cfb8fb",
   "metadata": {},
   "outputs": [],
   "source": [
    "# accessing the dictionary"
   ]
  },
  {
   "cell_type": "code",
   "execution_count": 43,
   "id": "3eeb95a4",
   "metadata": {},
   "outputs": [
    {
     "data": {
      "text/plain": [
       "'Shilpa'"
      ]
     },
     "execution_count": 43,
     "metadata": {},
     "output_type": "execute_result"
    }
   ],
   "source": [
    "d[1]"
   ]
  },
  {
   "cell_type": "code",
   "execution_count": 44,
   "id": "397ad2ca",
   "metadata": {},
   "outputs": [
    {
     "data": {
      "text/plain": [
       "dict_items([(1, 'Shilpa'), (2, 'c')])"
      ]
     },
     "execution_count": 44,
     "metadata": {},
     "output_type": "execute_result"
    }
   ],
   "source": [
    "d.items()"
   ]
  },
  {
   "cell_type": "code",
   "execution_count": null,
   "id": "5263fe53",
   "metadata": {},
   "outputs": [],
   "source": [
    "#Adding or Modifying a Key-Value Pair:"
   ]
  },
  {
   "cell_type": "code",
   "execution_count": 34,
   "id": "e2408c58",
   "metadata": {},
   "outputs": [],
   "source": [
    "d[1]=\"Shilpa\""
   ]
  },
  {
   "cell_type": "code",
   "execution_count": 35,
   "id": "647d271a",
   "metadata": {},
   "outputs": [
    {
     "data": {
      "text/plain": [
       "{1: 'Shilpa', 2: 'c'}"
      ]
     },
     "execution_count": 35,
     "metadata": {},
     "output_type": "execute_result"
    }
   ],
   "source": [
    "d"
   ]
  },
  {
   "cell_type": "code",
   "execution_count": 40,
   "id": "b84f5683",
   "metadata": {},
   "outputs": [],
   "source": [
    "#Getting All Keys or Values:"
   ]
  },
  {
   "cell_type": "code",
   "execution_count": 41,
   "id": "d5312812",
   "metadata": {},
   "outputs": [],
   "source": [
    "keys = d.keys()\n",
    "values = d.values()\n"
   ]
  },
  {
   "cell_type": "code",
   "execution_count": null,
   "id": "42bb4c23",
   "metadata": {},
   "outputs": [],
   "source": [
    "#iterating through dictionary"
   ]
  },
  {
   "cell_type": "code",
   "execution_count": 42,
   "id": "2fd167bc",
   "metadata": {},
   "outputs": [
    {
     "name": "stdout",
     "output_type": "stream",
     "text": [
      "1 Shilpa\n",
      "2 c\n"
     ]
    }
   ],
   "source": [
    "for key, value in d.items():\n",
    "    print(key, value)\n"
   ]
  },
  {
   "cell_type": "code",
   "execution_count": 47,
   "id": "1076c70d",
   "metadata": {},
   "outputs": [
    {
     "data": {
      "text/plain": [
       "{1: 'c', 2: 'c'}"
      ]
     },
     "execution_count": 47,
     "metadata": {},
     "output_type": "execute_result"
    }
   ],
   "source": [
    "new_dict"
   ]
  },
  {
   "cell_type": "code",
   "execution_count": null,
   "id": "cd00ca41",
   "metadata": {},
   "outputs": [],
   "source": []
  }
 ],
 "metadata": {
  "kernelspec": {
   "display_name": "Python 3 (ipykernel)",
   "language": "python",
   "name": "python3"
  },
  "language_info": {
   "codemirror_mode": {
    "name": "ipython",
    "version": 3
   },
   "file_extension": ".py",
   "mimetype": "text/x-python",
   "name": "python",
   "nbconvert_exporter": "python",
   "pygments_lexer": "ipython3",
   "version": "3.11.5"
  }
 },
 "nbformat": 4,
 "nbformat_minor": 5
}
