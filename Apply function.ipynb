{
 "cells": [
  {
   "cell_type": "markdown",
   "id": "2c7857b0",
   "metadata": {},
   "source": [
    "# Apply function to every row in a Pandas DataFrame\n",
    "\n",
    "we can apply a function to every row in a Pandas Dataframe."
   ]
  },
  {
   "cell_type": "code",
   "execution_count": 17,
   "id": "2e8be114",
   "metadata": {},
   "outputs": [
    {
     "name": "stdout",
     "output_type": "stream",
     "text": [
      "Original DataFrame:\n",
      "    A  B  C\n",
      "0  1  4  7\n",
      "1  2  5  8\n",
      "2  3  6  9\n",
      "\n",
      "After Applying Function: \n",
      "   A  B  C  add\n",
      "0  1  4  7   12\n",
      "1  2  5  8   15\n",
      "2  3  6  9   18\n"
     ]
    }
   ],
   "source": [
    "import pandas as pd\n",
    "\n",
    "# Function to add\n",
    "def add_values(row):\n",
    "    return row['A'] + row['B'] + row['C']\n",
    "\n",
    "def main():\n",
    "    # Create a dictionary with three fields each\n",
    "        data = {'A': [1, 2, 3],'B': [4, 5, 6],'C': [7, 8, 9]}\n",
    "\n",
    "# Convert the dictionary into DataFrame\n",
    "        df = pd.DataFrame(data)\n",
    "        print(\"Original DataFrame:\\n\", df)\n",
    "\n",
    "# Apply the user-defined function to every row\n",
    "        df['add'] = df.apply(add_values, axis=1)\n",
    "\n",
    "        print('\\nAfter Applying Function: ')\n",
    "# Print the new DataFrame\n",
    "        print(df)\n",
    "\n",
    "if __name__ == '__main__':\n",
    "    main()\n"
   ]
  },
  {
   "cell_type": "markdown",
   "id": "695149be",
   "metadata": {},
   "source": [
    "# Example 2: Apply Lambda to Every Row of DataFrame"
   ]
  },
  {
   "cell_type": "code",
   "execution_count": 19,
   "id": "578ff7ee",
   "metadata": {},
   "outputs": [
    {
     "name": "stdout",
     "output_type": "stream",
     "text": [
      "Original DataFrame:\n",
      "    A  B  C\n",
      "0  1  4  7\n",
      "1  2  5  8\n",
      "2  3  6  9\n",
      "\n",
      "After Applying Function: \n",
      "   A  B  C  add\n",
      "0  1  4  7   12\n",
      "1  2  5  8   15\n",
      "2  3  6  9   18\n"
     ]
    }
   ],
   "source": [
    "import pandas as pd\n",
    "\n",
    "# Function to add\n",
    "def add(a,b,c):\n",
    "    return a+b+c\n",
    "\n",
    "def main():\n",
    "    # Create a dictionary with three fields each\n",
    "        data = {'A': [1, 2, 3],'B': [4, 5, 6],'C': [7, 8, 9]}\n",
    "\n",
    "# Convert the dictionary into DataFrame\n",
    "        df = pd.DataFrame(data)\n",
    "        print(\"Original DataFrame:\\n\", df)\n",
    "\n",
    "# Apply the user-defined function to every row\n",
    "       # df['add'] = df.apply(add_values, axis=1)\n",
    "        df['add'] = df.apply(lambda row: add(row['A'],row['B'], row['C']), axis=1)\n",
    "\n",
    "        print('\\nAfter Applying Function: ')\n",
    "# Print the new DataFrame\n",
    "        print(df)\n",
    "\n",
    "if __name__ == '__main__':\n",
    "    main()"
   ]
  },
  {
   "cell_type": "markdown",
   "id": "4832ac42",
   "metadata": {},
   "source": [
    "# Example 3: Apply NumPy.sum() to Every Row"
   ]
  },
  {
   "cell_type": "code",
   "execution_count": 23,
   "id": "d3efc5f6",
   "metadata": {},
   "outputs": [
    {
     "name": "stdout",
     "output_type": "stream",
     "text": [
      "Original DataFrame:\n",
      "    A  B  C\n",
      "0  1  4  7\n",
      "1  2  5  8\n",
      "2  3  6  9\n",
      "\n",
      "After Applying Function: \n",
      "   A  B  C  add\n",
      "0  1  4  7   12\n",
      "1  2  5  8   15\n",
      "2  3  6  9   18\n"
     ]
    }
   ],
   "source": [
    "import pandas as pd\n",
    "import numpy as np\n",
    "\n",
    "\n",
    "def main():\n",
    "    # Create a dictionary with three fields each\n",
    "        data = {'A': [1, 2, 3],'B': [4, 5, 6],'C': [7, 8, 9]}\n",
    "\n",
    "# Convert the dictionary into DataFrame\n",
    "        df = pd.DataFrame(data)\n",
    "        print(\"Original DataFrame:\\n\", df)\n",
    "\n",
    "# Apply the user-defined function to every row\n",
    "       # df['add'] = df.apply(add_values, axis=1)\n",
    "        df['add'] = df.apply(np.sum, axis=1)\n",
    "\n",
    "        print('\\nAfter Applying Function: ')\n",
    "# Print the new DataFrame\n",
    "        print(df)\n",
    "\n",
    "if __name__ == '__main__':\n",
    "    main()"
   ]
  },
  {
   "cell_type": "code",
   "execution_count": null,
   "id": "c0023954",
   "metadata": {},
   "outputs": [],
   "source": []
  }
 ],
 "metadata": {
  "kernelspec": {
   "display_name": "Python 3 (ipykernel)",
   "language": "python",
   "name": "python3"
  },
  "language_info": {
   "codemirror_mode": {
    "name": "ipython",
    "version": 3
   },
   "file_extension": ".py",
   "mimetype": "text/x-python",
   "name": "python",
   "nbconvert_exporter": "python",
   "pygments_lexer": "ipython3",
   "version": "3.11.5"
  }
 },
 "nbformat": 4,
 "nbformat_minor": 5
}
